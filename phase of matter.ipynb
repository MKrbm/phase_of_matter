{
 "cells": [
  {
   "cell_type": "code",
   "execution_count": 227,
   "metadata": {},
   "outputs": [],
   "source": [
    "import glob\n",
    "import os.path as osp\n",
    "import numpy as np\n",
    "import json\n",
    "import torch\n",
    "import torch.utils.data as data\n",
    "import torch.nn as nn\n",
    "import torch.optim as optim\n",
    "import torch.nn.functional as F\n",
    "from tqdm import tqdm\n",
    "import matplotlib.pyplot as plt"
   ]
  },
  {
   "cell_type": "code",
   "execution_count": 26,
   "metadata": {},
   "outputs": [],
   "source": [
    "betas = [\n",
    "         0.57, 0.55, 0.53, 0.51, 0.49, 0.47, 0.45, \n",
    "         0.43, 0.41, 0.39, 0.37, 0.35, 0.33, 0.31,\n",
    "        ] \n",
    "n = 500\n",
    "L = 32\n",
    "M = []\n"
   ]
  },
  {
   "cell_type": "code",
   "execution_count": 17,
   "metadata": {},
   "outputs": [],
   "source": [
    "def make_path():\n",
    "    target_path = osp.join(\"conf/isingconf_32\"+\"*.npy\")\n",
    "    print(target_path)\n",
    "    path_list = []\n",
    "    for path in glob.glob(target_path):\n",
    "        path_list.append(path)\n",
    "    return path_list"
   ]
  },
  {
   "cell_type": "code",
   "execution_count": 25,
   "metadata": {
    "scrolled": true
   },
   "outputs": [
    {
     "name": "stdout",
     "output_type": "stream",
     "text": [
      "conf/isingconf_32*.npy\n"
     ]
    },
    {
     "data": {
      "text/plain": [
       "'conf/isingconf_32_0.45_177.npy'"
      ]
     },
     "execution_count": 25,
     "metadata": {},
     "output_type": "execute_result"
    }
   ],
   "source": [
    "path_list = make_path()\n",
    "path_list[7012]\n",
    "#path_list\n",
    "#sorted(path_list, key=lambda i: int(osp.splitext(osp.basename(i))[0]))"
   ]
  },
  {
   "cell_type": "code",
   "execution_count": 57,
   "metadata": {},
   "outputs": [
    {
     "data": {
      "text/plain": [
       "torch.Size([1024, 1])"
      ]
     },
     "execution_count": 57,
     "metadata": {},
     "output_type": "execute_result"
    }
   ],
   "source": [
    "path_list = []\n",
    "labels = []\n",
    "for beta in betas:\n",
    "    for i in range(n):\n",
    "        path_list.append(f\"conf/isingconf_32_{beta}_{i}.npy\")\n",
    "        if beta > 0.44:\n",
    "            labels.append(1)\n",
    "        else:\n",
    "            labels.append(0)\n",
    "\n",
    "        \n",
    "path_train = [path_list[x] for x in range(7000) if x%10!=0]\n",
    "path_test = [path_list[x] for x in range(7000) if x%10==0]\n",
    "labels_trian = [labels[x] for x in range(7000) if x%10!=0]\n",
    "labels_test = [labels[x] for x in range(7000) if x%10==0]\n",
    "len(path_test), len(path_train) , len(labels_trian) , len(labels_test)\n",
    "T = np.load(path_train[2])\n",
    "T=torch.tensor(T)\n",
    "np.shape(T.unsqueeze(-1))"
   ]
  },
  {
   "cell_type": "code",
   "execution_count": 207,
   "metadata": {},
   "outputs": [],
   "source": [
    "class HymenopteraDataset(data.Dataset):\n",
    "    \n",
    "    def __init__(self, file_list,labels):\n",
    "        self.file_list = file_list \n",
    "        self.labels = labels\n",
    "    def __len__(self):\n",
    "        return len(self.file_list)\n",
    "\n",
    "    def __getitem__(self, index):\n",
    "        #print(index)\n",
    "        path = self.file_list[index]\n",
    "        x = np.load(path)\n",
    "        y = self.labels[index]\n",
    "\n",
    "        x = torch.tensor(x,dtype = torch.float32)#.unsqueeze(-1)\n",
    "\n",
    "        return x, y"
   ]
  },
  {
   "cell_type": "code",
   "execution_count": 208,
   "metadata": {},
   "outputs": [
    {
     "name": "stdout",
     "output_type": "stream",
     "text": [
      "tensor([[ 1.,  1.,  1.,  ...,  1.,  1.,  1.],\n",
      "        [ 1.,  1.,  1.,  ...,  1., -1.,  1.],\n",
      "        [ 1.,  1.,  1.,  ..., -1.,  1.,  1.],\n",
      "        ...,\n",
      "        [ 1.,  1.,  1.,  ...,  1.,  1.,  1.],\n",
      "        [ 1.,  1.,  1.,  ...,  1.,  1.,  1.],\n",
      "        [ 1.,  1.,  1.,  ...,  1.,  1.,  1.]])\n",
      "tensor([[-1., -1.,  1.,  ...,  1.,  1.,  1.],\n",
      "        [ 1.,  1.,  1.,  ...,  1.,  1.,  1.],\n",
      "        [ 1.,  1.,  1.,  ..., -1.,  1.,  1.],\n",
      "        ...,\n",
      "        [ 1.,  1.,  1.,  ...,  1.,  1.,  1.],\n",
      "        [ 1., -1.,  1.,  ..., -1., -1.,  1.],\n",
      "        [ 1.,  1.,  1.,  ...,  1.,  1.,  1.]])\n"
     ]
    }
   ],
   "source": [
    "train_dataset= HymenopteraDataset(path_train,labels_trian)\n",
    "test_dataset = HymenopteraDataset(path_test,labels_test)\n",
    "batch_size =500\n",
    "train_dataloader = torch.utils.data.DataLoader(\n",
    "    train_dataset, batch_size=batch_size, shuffle=True)\n",
    "\n",
    "test_dataloader = torch.utils.data.DataLoader(\n",
    "    test_dataset, batch_size=batch_size, shuffle=False)\n",
    "\n",
    "dataloaders_dict = {\"train\": train_dataloader, \"test\": test_dataloader}\n",
    "batch_iterator = iter(dataloaders_dict[\"train\"])  # イテレータに変換\n",
    "inputs, labels = next(batch_iterator)  \n",
    "i = 0\n",
    "for inputs,labels in dataloaders_dict[\"train\"]:\n",
    "    print(inputs)\n",
    "    i += 1\n",
    "    if i > 1:\n",
    "        break"
   ]
  },
  {
   "cell_type": "code",
   "execution_count": 214,
   "metadata": {},
   "outputs": [],
   "source": [
    "class NeuralNet_ising(nn.Module):\n",
    "    def __init__(self, n_input, n_out = 2):\n",
    "        super(NeuralNet_ising, self).__init__()\n",
    "        self.l1 = nn.Linear(n_input, 100)\n",
    "        self.l2 = nn.Linear(100, n_out)\n",
    "    def forward(self, x):\n",
    "        #print(type(x),np.shape(x),x[0,0])\n",
    "        x = torch.sigmoid(self.l1(x))\n",
    "        x = self.l2(x)\n",
    "        return x"
   ]
  },
  {
   "cell_type": "code",
   "execution_count": 215,
   "metadata": {},
   "outputs": [],
   "source": [
    "def check_accuracy_ising(model, xs, ts):\n",
    "    ys = model(xs)\n",
    "    loss = nn.CrossEntropyLoss()\n",
    "    output = loss(ys, ts)\n",
    "    #loss = nn.softmax_cross_entropy(ys, ts)\n",
    "    ys = ys.numpy()\n",
    "    ys = np.argmax(ys.data, axis=1)\n",
    "    cors = (ys == ts)\n",
    "    num_cors = sum(cors)\n",
    "    accuracy = num_cors / ts.shape[0]\n",
    "    return accuracy, output"
   ]
  },
  {
   "cell_type": "code",
   "execution_count": 216,
   "metadata": {},
   "outputs": [
    {
     "name": "stdout",
     "output_type": "stream",
     "text": [
      "<bound method Module.parameters of NeuralNet_ising(\n",
      "  (l1): Linear(in_features=1024, out_features=100, bias=True)\n",
      "  (l2): Linear(in_features=100, out_features=2, bias=True)\n",
      ")>\n"
     ]
    },
    {
     "data": {
      "text/plain": [
       "torch.Size([500, 1024])"
      ]
     },
     "execution_count": 216,
     "metadata": {},
     "output_type": "execute_result"
    }
   ],
   "source": [
    "model = NeuralNet_ising(1024)\n",
    "param=iter(model.parameters())\n",
    "next(param).size()\n",
    "next(param)#.size()\n",
    "print(model.parameters)\n",
    "inp = torch.rand(500,1024)\n",
    "#loss=nn.Sigmoid()\n",
    "#inp,torch.sigmoid(inp),loss(inp)\n",
    "torch.sigmoid(inp).size()\n",
    "#model(inp).size()\n",
    "#l = [1,2,3]\n",
    "#np.mean(l)"
   ]
  },
  {
   "cell_type": "code",
   "execution_count": 221,
   "metadata": {},
   "outputs": [],
   "source": [
    "def training_ising(N_epochs = 3):\n",
    "    model = NeuralNet_ising(1024)\n",
    "    optimizer = optim.Adam(model.parameters())#, lr=LR)\n",
    "    cross_entropy_loss = nn.CrossEntropyLoss()\n",
    "    \n",
    "    loss_history = []\n",
    "    \n",
    "    N_total_data = len(index_train)\n",
    "    print(f\"N_total_data = {N_total_data}, minibatch-size = {batch_size}\" )\n",
    "    for epoch in range(N_epochs) :\n",
    "        loss_history_minibatch = []\n",
    "        print('Epoch {}/{}'.format(epoch+1, N_epochs))\n",
    "        print(\"---------\")\n",
    "        epoch_loss = 0.0\n",
    "        epoch_corrects = 0\n",
    "        \n",
    "        for inputs,labels in tqdm(dataloaders_dict[\"train\"]):\n",
    "            optimizer.zero_grad()\n",
    "            #print(inputs)\n",
    "            \n",
    "            with torch.set_grad_enabled(True):\n",
    "                outputs = model(inputs)\n",
    "                loss = cross_entropy_loss(outputs, labels)\n",
    "                _, preds = torch.max(outputs,1)\n",
    "                #loss_history_minibatch.append(loss.item())\n",
    "                loss.backward()\n",
    "                optimizer.step()\n",
    "                epoch_loss += loss.item() * inputs.size(0)  \n",
    "                epoch_corrects += torch.sum(preds == labels.data)\n",
    "\n",
    "            # epochごとのlossと正解率を表示\n",
    "        epoch_loss = epoch_loss / len(dataloaders_dict[\"train\"].dataset) #.dataset return the dataset of dataloader\n",
    "        epoch_acc = epoch_corrects.double() / len(dataloaders_dict[\"train\"].dataset)\n",
    "\n",
    "        print('Loss: {:.4f} Acc: {:.4f}'.format(epoch_loss, epoch_acc))\n",
    "    return model"
   ]
  },
  {
   "cell_type": "code",
   "execution_count": 222,
   "metadata": {
    "scrolled": true
   },
   "outputs": [
    {
     "name": "stderr",
     "output_type": "stream",
     "text": [
      "\n",
      "  0%|          | 0/13 [00:00<?, ?it/s]\u001b[A"
     ]
    },
    {
     "name": "stdout",
     "output_type": "stream",
     "text": [
      "N_total_data = 450, minibatch-size = 500\n",
      "Epoch 1/3\n",
      "---------\n"
     ]
    },
    {
     "name": "stderr",
     "output_type": "stream",
     "text": [
      "\n",
      "  8%|▊         | 1/13 [00:00<00:04,  2.45it/s]\u001b[A\n",
      " 15%|█▌        | 2/13 [00:00<00:04,  2.48it/s]\u001b[A\n",
      " 23%|██▎       | 3/13 [00:01<00:03,  2.53it/s]\u001b[A\n",
      " 31%|███       | 4/13 [00:01<00:03,  2.58it/s]\u001b[A\n",
      " 38%|███▊      | 5/13 [00:01<00:03,  2.64it/s]\u001b[A\n",
      " 46%|████▌     | 6/13 [00:02<00:02,  2.67it/s]\u001b[A\n",
      " 54%|█████▍    | 7/13 [00:02<00:02,  2.70it/s]\u001b[A\n",
      " 62%|██████▏   | 8/13 [00:03<00:01,  2.51it/s]\u001b[A\n",
      " 69%|██████▉   | 9/13 [00:03<00:01,  2.47it/s]\u001b[A\n",
      " 77%|███████▋  | 10/13 [00:03<00:01,  2.46it/s]\u001b[A\n",
      " 85%|████████▍ | 11/13 [00:04<00:00,  2.45it/s]\u001b[A\n",
      " 92%|█████████▏| 12/13 [00:04<00:00,  2.56it/s]\u001b[A\n",
      "100%|██████████| 13/13 [00:04<00:00,  2.95it/s]\u001b[A\n",
      "  0%|          | 0/13 [00:00<?, ?it/s]\u001b[A\n",
      "  8%|▊         | 1/13 [00:00<00:01,  6.33it/s]\u001b[A"
     ]
    },
    {
     "name": "stdout",
     "output_type": "stream",
     "text": [
      "Loss: 0.4204 Acc: 0.8208\n",
      "Epoch 2/3\n",
      "---------\n"
     ]
    },
    {
     "name": "stderr",
     "output_type": "stream",
     "text": [
      "\n",
      " 15%|█▌        | 2/13 [00:00<00:01,  6.30it/s]\u001b[A\n",
      " 23%|██▎       | 3/13 [00:00<00:01,  6.29it/s]\u001b[A\n",
      " 31%|███       | 4/13 [00:00<00:01,  6.29it/s]\u001b[A\n",
      " 38%|███▊      | 5/13 [00:00<00:01,  6.28it/s]\u001b[A\n",
      " 46%|████▌     | 6/13 [00:00<00:01,  6.28it/s]\u001b[A\n",
      " 54%|█████▍    | 7/13 [00:01<00:00,  6.26it/s]\u001b[A\n",
      " 62%|██████▏   | 8/13 [00:01<00:00,  6.24it/s]\u001b[A\n",
      " 69%|██████▉   | 9/13 [00:01<00:00,  6.11it/s]\u001b[A\n",
      " 77%|███████▋  | 10/13 [00:01<00:00,  6.14it/s]\u001b[A\n",
      " 85%|████████▍ | 11/13 [00:01<00:00,  6.15it/s]\u001b[A\n",
      " 92%|█████████▏| 12/13 [00:01<00:00,  6.16it/s]\u001b[A\n",
      "100%|██████████| 13/13 [00:02<00:00,  6.95it/s]\u001b[A\n",
      "  0%|          | 0/13 [00:00<?, ?it/s]\u001b[A\n",
      "  8%|▊         | 1/13 [00:00<00:01,  6.01it/s]\u001b[A"
     ]
    },
    {
     "name": "stdout",
     "output_type": "stream",
     "text": [
      "Loss: 0.2794 Acc: 0.9176\n",
      "Epoch 3/3\n",
      "---------\n"
     ]
    },
    {
     "name": "stderr",
     "output_type": "stream",
     "text": [
      "\n",
      " 15%|█▌        | 2/13 [00:00<00:01,  6.03it/s]\u001b[A\n",
      " 23%|██▎       | 3/13 [00:00<00:01,  6.08it/s]\u001b[A\n",
      " 31%|███       | 4/13 [00:00<00:01,  6.15it/s]\u001b[A\n",
      " 38%|███▊      | 5/13 [00:00<00:01,  6.21it/s]\u001b[A\n",
      " 46%|████▌     | 6/13 [00:00<00:01,  6.22it/s]\u001b[A\n",
      " 54%|█████▍    | 7/13 [00:01<00:00,  6.13it/s]\u001b[A\n",
      " 62%|██████▏   | 8/13 [00:01<00:00,  6.10it/s]\u001b[A\n",
      " 69%|██████▉   | 9/13 [00:01<00:00,  6.17it/s]\u001b[A\n",
      " 77%|███████▋  | 10/13 [00:01<00:00,  6.10it/s]\u001b[A\n",
      " 85%|████████▍ | 11/13 [00:01<00:00,  6.03it/s]\u001b[A\n",
      " 92%|█████████▏| 12/13 [00:01<00:00,  6.09it/s]\u001b[A\n",
      "100%|██████████| 13/13 [00:02<00:00,  6.86it/s]\u001b[A"
     ]
    },
    {
     "name": "stdout",
     "output_type": "stream",
     "text": [
      "Loss: 0.2405 Acc: 0.9444\n"
     ]
    }
   ],
   "source": [
    "model = training_ising()"
   ]
  },
  {
   "cell_type": "code",
   "execution_count": 254,
   "metadata": {
    "scrolled": true
   },
   "outputs": [
    {
     "data": {
      "text/plain": [
       "0.22727272727272727"
      ]
     },
     "execution_count": 254,
     "metadata": {},
     "output_type": "execute_result"
    }
   ],
   "source": [
    "torch.max(model(conf2),0)[1].item()\n",
    "1/4.4"
   ]
  },
  {
   "cell_type": "code",
   "execution_count": 253,
   "metadata": {},
   "outputs": [
    {
     "name": "stdout",
     "output_type": "stream",
     "text": [
      "T= 1.75\n"
     ]
    },
    {
     "data": {
      "image/png": "[encoded data removed]",
      "text/plain": [
       "<Figure size 432x288 with 1 Axes>"
      ]
     },
     "metadata": {
      "needs_background": "light"
     },
     "output_type": "display_data"
    },
    {
     "name": "stdout",
     "output_type": "stream",
     "text": [
      "T= 1.96\n"
     ]
    },
    {
     "data": {
      "image/png": "[encoded data removed]",
      "text/plain": [
       "<Figure size 432x288 with 1 Axes>"
      ]
     },
     "metadata": {
      "needs_background": "light"
     },
     "output_type": "display_data"
    },
    {
     "name": "stdout",
     "output_type": "stream",
     "text": [
      "T= 2.22\n"
     ]
    },
    {
     "data": {
      "image/png": "[encoded data removed]",
      "text/plain": [
       "<Figure size 432x288 with 1 Axes>"
      ]
     },
     "metadata": {
      "needs_background": "light"
     },
     "output_type": "display_data"
    },
    {
     "name": "stdout",
     "output_type": "stream",
     "text": [
      "T= 2.56\n"
     ]
    },
    {
     "data": {
      "image/png": "[encoded data removed]",
      "text/plain": [
       "<Figure size 432x288 with 1 Axes>"
      ]
     },
     "metadata": {
      "needs_background": "light"
     },
     "output_type": "display_data"
    },
    {
     "name": "stdout",
     "output_type": "stream",
     "text": [
      "T= 3.03\n"
     ]
    },
    {
     "data": {
      "image/png": "[encoded data removed]",
      "text/plain": [
       "<Figure size 432x288 with 1 Axes>"
      ]
     },
     "metadata": {
      "needs_background": "light"
     },
     "output_type": "display_data"
    }
   ],
   "source": [
    "for i,beta in enumerate(betas):\n",
    "    if i % 3 == 0:\n",
    "        fname = f\"conf/isingconf_32_{beta}_1.npy\"\n",
    "        conf1 = np.load(fname)\n",
    "        print(\"T=\",round(1/beta,2))\n",
    "        plt.imshow(conf1.reshape(32,32), cmap='hot', interpolation='nearest')\n",
    "        plt.show()\n"
   ]
  },
  {
   "cell_type": "code",
   "execution_count": 111,
   "metadata": {},
   "outputs": [
    {
     "name": "stdout",
     "output_type": "stream",
     "text": [
      "tensor([[-3.4402, -2.4402, -1.4402, -0.4402],\n",
      "        [-0.4402, -2.4402, -1.4402, -3.4402]]) tensor([3, 0])\n",
      "Torch CrossEntropyLoss:  tensor(0.4402)\n",
      "Torch NLL loss:  tensor(0.4402)\n",
      "Custom NLL loss:  tensor(0.4402)\n"
     ]
    }
   ],
   "source": [
    "import torch\n",
    "torch.manual_seed(1)\n",
    "\n",
    "def NLLLoss(logs, targets):\n",
    "    out = torch.zeros_like(targets, dtype=torch.float)\n",
    "    for i in range(len(targets)):\n",
    "        out[i] = logs[i][targets[i]]\n",
    "    return -out.sum()/len(out)\n",
    "\n",
    "x = torch.tensor([[-1.,  0.,  1.,  2.],[ 2.,  0.,  1., -1.]])\n",
    "y = torch.LongTensor([3, 0])\n",
    "cross_entropy_loss = torch.nn.CrossEntropyLoss()\n",
    "log_softmax = torch.nn.LogSoftmax(dim=1)\n",
    "x_log = log_softmax(x)\n",
    "print(x_log,y)\n",
    "nll_loss = torch.nn.NLLLoss()\n",
    "print(\"Torch CrossEntropyLoss: \", cross_entropy_loss(x, y))\n",
    "print(\"Torch NLL loss: \", nll_loss(x_log, y))\n",
    "print(\"Custom NLL loss: \", NLLLoss(x_log, y))"
   ]
  },
  {
   "cell_type": "code",
   "execution_count": null,
   "metadata": {},
   "outputs": [],
   "source": []
  }
 ],
 "metadata": {
  "kernelspec": {
   "display_name": "Python 3",
   "language": "python",
   "name": "python3"
  },
  "language_info": {
   "codemirror_mode": {
    "name": "ipython",
    "version": 3
   },
   "file_extension": ".py",
   "mimetype": "text/x-python",
   "name": "python",
   "nbconvert_exporter": "python",
   "pygments_lexer": "ipython3",
   "version": "3.7.3"
  }
 },
 "nbformat": 4,
 "nbformat_minor": 2
}
